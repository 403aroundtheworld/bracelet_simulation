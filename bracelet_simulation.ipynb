{
 "cells": [
  {
   "cell_type": "code",
   "execution_count": 201,
   "id": "3d76d50e",
   "metadata": {},
   "outputs": [],
   "source": [
    "import random"
   ]
  },
  {
   "cell_type": "code",
   "execution_count": 202,
   "id": "8813c7fa",
   "metadata": {},
   "outputs": [],
   "source": [
    "bracelet = ('crit','spec','empty','empty','empty')\n",
    "locked_status = (1, 1, 0, 0, 0)\n",
    "remaining_attempts = 4"
   ]
  },
  {
   "cell_type": "code",
   "execution_count": 203,
   "id": "c2340598",
   "metadata": {},
   "outputs": [],
   "source": [
    "def weighted_random_selection(possible_line):\n",
    "    # Extract the keys and their corresponding weights\n",
    "    keys = list(possible_line.keys())\n",
    "    weights = list(possible_line.values())\n",
    "\n",
    "    # Use random.choices() to select a key based on the provided weights\n",
    "    selected_key = random.choices(keys, weights=weights, k=1)[0]\n",
    "\n",
    "    return selected_key"
   ]
  },
  {
   "cell_type": "code",
   "execution_count": 204,
   "id": "26182298",
   "metadata": {
    "scrolled": true
   },
   "outputs": [
    {
     "name": "stdout",
     "output_type": "stream",
     "text": [
      "Selected category: special_effect, Selected line: trash\n"
     ]
    }
   ],
   "source": [
    "def select_line(bracelet):\n",
    "    possible_line = {'main_stat':35,'combat_stat':35,'special_effect':30}\n",
    "    main_stat = {'vit':1,'str':1}\n",
    "    combat_stat = {'crit':1,'spec':1,'dom':1,'swift':1,'endu':1,'expert':1}\n",
    "    special_effect = {'trash':92.79383,'precise':1.2353,'raid':1.2353,'superiority':1.2353,'ambush/battle':1.2353, 'circulate':0.75499,'hammer':0.75499,'fervor':0.75499}\n",
    "    category_counts = {'main_stat': 0, 'combat_stat': 0}\n",
    "    \n",
    "    for item in bracelet:\n",
    "        if item in main_stat:\n",
    "            category_counts['main_stat'] += 1\n",
    "        elif item in combat_stat:\n",
    "            category_counts['combat_stat'] += 1\n",
    "            \n",
    "    for category, count in category_counts.items():\n",
    "        if count >= 2:\n",
    "            possible_line[category] = 0\n",
    "            \n",
    "    # First-tier selection: choose the category\n",
    "    category = weighted_random_selection(possible_line)\n",
    "\n",
    "    # Second-tier selection: choose the specific line based on the category\n",
    "    if category == 'main_stat':\n",
    "        main_stat = {k: v for k, v in main_stat.items() if k not in bracelet}\n",
    "        return 'main_stat', weighted_random_selection(main_stat)\n",
    "    elif category == 'combat_stat':\n",
    "        combat_stat = {k: v for k, v in combat_stat.items() if k not in bracelet}\n",
    "        return 'combat_stat', weighted_random_selection(combat_stat)\n",
    "    elif category == 'special_effect':\n",
    "        special_effect = {k: v for k, v in special_effect.items() if k not in bracelet or k == 'trash'}\n",
    "        return 'special_effect', weighted_random_selection(special_effect)\n",
    "\n",
    "# Example usage\n",
    "category, line = select_line(bracelet)\n",
    "print(f\"Selected category: {category}, Selected line: {line}\")\n"
   ]
  },
  {
   "cell_type": "code",
   "execution_count": 205,
   "id": "af0ace76",
   "metadata": {},
   "outputs": [],
   "source": [
    "def bracelet_reroll_ancient(bracelet, locked_status, remaining_attempts, need_to_print):\n",
    "    # simulates the reroll event for ancient bracelet\n",
    "    # inputs: \n",
    "    #   bracelet: tuple representing the initial state of the bracelet. \n",
    "    #   locked_status: tuple representing the initial locked stats of the bracelet.\n",
    "    #   remaining_attempts: integer representing the amount of attemps left for this bracelet.\n",
    "    #   weights: dictionary for available stats(key) and their weights(value\n",
    "    #   need_to_print: boolean representing if you want to print the result at the end. \n",
    "    \n",
    "    # Convert the immutable tuple to an mutable list for bracelet and locked_status\n",
    "    bracelet = list(bracelet)\n",
    "    locked_status = list(locked_status)\n",
    "\n",
    "    # loop through remaining attempts\n",
    "    while remaining_attempts > 0:\n",
    "        # Iterate over each slot in the bracelet\n",
    "        for i in range(len(bracelet)):\n",
    "            # Mark the slot as 'empty' if it's not in the locked_values\n",
    "            if locked_status[i] != 1:\n",
    "                bracelet[i] = 'empty'\n",
    "\n",
    "        # loop through each slot\n",
    "        for i in range(len(bracelet)):\n",
    "            if not locked_status[i]:\n",
    "\n",
    "                [ _ , chosen_stat ] = select_line(bracelet)\n",
    "\n",
    "                bracelet[i] = chosen_stat\n",
    "\n",
    "                # Lock the slot if special_good is chosen\n",
    "                if chosen_stat in special_effect.keys() and chosen_stat != 'trash':\n",
    "                    locked_status[i] = 1\n",
    "\n",
    "        remaining_attempts -= 1\n",
    "        \n",
    "    # Print the result before returning\n",
    "    if need_to_print:\n",
    "        print(\"Result Bracelet:\", bracelet)\n",
    "        print(\"Locked Status:\", locked_status)\n",
    "\n",
    "    # Convert back to tuples before returning\n",
    "    return tuple(bracelet), tuple(locked_status), sum(locked_status)  # Return the bracelet, locked status, and count of locked slots"
   ]
  },
  {
   "cell_type": "code",
   "execution_count": 206,
   "id": "5d6dab77",
   "metadata": {},
   "outputs": [
    {
     "name": "stdout",
     "output_type": "stream",
     "text": [
      "Result Bracelet: ['crit', 'spec', 'trash', 'trash', 'superiority']\n",
      "Locked Status: [1, 1, 0, 0, 1]\n",
      "Locked Slots: 3\n"
     ]
    }
   ],
   "source": [
    "# example of running the simulation on ancient bracelet once\n",
    "[_,_,locked_slots] = bracelet_reroll_ancient(bracelet, locked_status, remaining_attempts, 1)\n",
    "print(\"Locked Slots:\", locked_slots)"
   ]
  },
  {
   "cell_type": "code",
   "execution_count": 207,
   "id": "188e47ef",
   "metadata": {},
   "outputs": [],
   "source": [
    "def run_simulation_and_plot_ancient(runs, initial_bracelet, initial_locked_status, remaining_attempts):\n",
    "    # Run the simulation 'runs' times and record the number of locked slots\n",
    "    locked_slots_counts = []\n",
    "    for _ in range(runs):\n",
    "        _, _, locked_slots = bracelet_reroll_ancient(initial_bracelet, initial_locked_status, remaining_attempts, 0)\n",
    "        locked_slots_counts.append(locked_slots)\n",
    "\n",
    "    # Plotting the histogram\n",
    "    n, bins, patches = plt.hist(locked_slots_counts, bins=range(2, 7), align='left', color='blue', edgecolor='black')\n",
    "\n",
    "    # Adding count annotations on each bar\n",
    "    for i in range(len(n)):\n",
    "        plt.annotate(str(int(n[i])), xy=(bins[i] + 0.1, n[i]), xytext=(0, 3), textcoords=\"offset points\", ha='center', va='bottom')\n",
    "\n",
    "    plt.xlabel('Number of Locked Slots')\n",
    "    plt.ylabel('Frequency')\n",
    "    plt.title('Histogram of Locked Slots Over ' + str(runs) + ' Runs')\n",
    "    plt.xticks(range(2, 6))\n",
    "    plt.show()"
   ]
  },
  {
   "cell_type": "code",
   "execution_count": 210,
   "id": "b1961c27",
   "metadata": {},
   "outputs": [
    {
     "data": {
      "image/png": "[encoded data removed]",
      "text/plain": [
       "<Figure size 640x480 with 1 Axes>"
      ]
     },
     "metadata": {},
     "output_type": "display_data"
    }
   ],
   "source": [
    "run_simulation_and_plot_ancient(200000, bracelet, locked_status, remaining_attempts)"
   ]
  },
  {
   "cell_type": "code",
   "execution_count": null,
   "id": "8f61a1ab",
   "metadata": {},
   "outputs": [],
   "source": []
  }
 ],
 "metadata": {
  "kernelspec": {
   "display_name": "Python 3 (ipykernel)",
   "language": "python",
   "name": "python3"
  },
  "language_info": {
   "codemirror_mode": {
    "name": "ipython",
    "version": 3
   },
   "file_extension": ".py",
   "mimetype": "text/x-python",
   "name": "python",
   "nbconvert_exporter": "python",
   "pygments_lexer": "ipython3",
   "version": "3.11.4"
  }
 },
 "nbformat": 4,
 "nbformat_minor": 5
}
